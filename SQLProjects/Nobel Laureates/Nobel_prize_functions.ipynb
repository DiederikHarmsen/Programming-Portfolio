{
 "cells": [
  {
   "cell_type": "code",
   "execution_count": 3,
   "metadata": {},
   "outputs": [],
   "source": [
    "import pymysql\n",
    "import pandas as pd\n",
    "import cryptography"
   ]
  },
  {
   "cell_type": "code",
   "execution_count": 29,
   "metadata": {},
   "outputs": [
    {
     "name": "stdout",
     "output_type": "stream",
     "text": [
      "Connection successful\n",
      "Error: (1064, \"You have an error in your SQL syntax; check the manual that corresponds to your MySQL server version for the right syntax to use near 'CREATE TABLE Person(\\n    Id INT,\\n    FirstName VARCHAR(255),\\n    Surname VARCHAR' at line 5\")\n"
     ]
    }
   ],
   "source": [
    "import pymysql\n",
    "\n",
    "db_name = 'Nobels'\n",
    "db_host = 'localhost'\n",
    "db_username = 'root'\n",
    "db_password = 'DatabasGrabb1996'\n",
    "sql_file_path = 'Create_DB.sql'  # Adjust the path if necessary\n",
    "\n",
    "conn = None\n",
    "\n",
    "try:\n",
    "    conn = pymysql.connect(\n",
    "        host=db_host,\n",
    "        port=3306,\n",
    "        user=db_username,\n",
    "        password=db_password,\n",
    "        db=db_name\n",
    "    )\n",
    "    if conn:\n",
    "        print(\"Connection successful\")\n",
    "\n",
    "    with open(sql_file_path, 'r') as file:\n",
    "        sql_script = file.read()\n",
    "    \n",
    "    cursor = conn.cursor()\n",
    "    cursor.execute(sql_script)\n",
    "    conn.commit()\n",
    "\n",
    "    print(\"SQL script executed successfully\")\n",
    "\n",
    "except Exception as e:\n",
    "    print(f\"Error: {e}\")\n",
    "\n",
    "if not conn:\n",
    "    print(\"Error: Failed to establish a connection\")"
   ]
  }
 ],
 "metadata": {
  "kernelspec": {
   "display_name": "SQLP",
   "language": "python",
   "name": "python3"
  },
  "language_info": {
   "codemirror_mode": {
    "name": "ipython",
    "version": 3
   },
   "file_extension": ".py",
   "mimetype": "text/x-python",
   "name": "python",
   "nbconvert_exporter": "python",
   "pygments_lexer": "ipython3",
   "version": "3.11.0"
  }
 },
 "nbformat": 4,
 "nbformat_minor": 2
}
